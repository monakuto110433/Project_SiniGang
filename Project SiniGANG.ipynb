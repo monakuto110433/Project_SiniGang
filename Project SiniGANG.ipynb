{
 "cells": [
  {
   "cell_type": "code",
   "execution_count": 1,
   "metadata": {},
   "outputs": [],
   "source": [
    "import pandas as pd\n",
    "import numpy as np\n",
    "import matplotlib.pyplot as plt"
   ]
  },
  {
   "cell_type": "code",
   "execution_count": 2,
   "metadata": {},
   "outputs": [],
   "source": [
    "pd.set_option('display.float_format', '{:.2f}'.format)"
   ]
  },
  {
   "cell_type": "code",
   "execution_count": 4,
   "metadata": {},
   "outputs": [],
   "source": [
    "# without csv\n",
    "import requests\n",
    "from bs4 import BeautifulSoup\n",
    "\n",
    "result = requests.get(\"https://gppbgovph.com/awardedcontracts.php\")\n",
    "src = str(result.content)\n",
    "\n",
    "end = src.find(\"editoptions\\\":{\\\"value\")\n",
    "start = src.find(\"All;\")\n",
    "final_legend = src[start+4:end-4]\n",
    "\n",
    "final_legend = final_legend.split(\";\")\n",
    "legend_dict = {}\n",
    "for x in final_legend:\n",
    "    new_legend = x.split(\":\")\n",
    "    legend_dict[int(new_legend[0])] = new_legend[1]"
   ]
  },
  {
   "cell_type": "code",
   "execution_count": 5,
   "metadata": {},
   "outputs": [],
   "source": [
    "df = pd.read_excel(\"Grid_AwardedContracts_2020-08-03.xlsx\")"
   ]
  },
  {
   "cell_type": "code",
   "execution_count": 6,
   "metadata": {},
   "outputs": [],
   "source": [
    "remove_these_columns = [\"Notice Of Award\",\"Contract/PO\",\"Annual Procurement Plan\"]\n",
    "df.drop(columns=remove_these_columns,inplace=True)"
   ]
  },
  {
   "cell_type": "code",
   "execution_count": 7,
   "metadata": {
    "scrolled": true
   },
   "outputs": [
    {
     "data": {
      "text/html": [
       "<div>\n",
       "<style scoped>\n",
       "    .dataframe tbody tr th:only-of-type {\n",
       "        vertical-align: middle;\n",
       "    }\n",
       "\n",
       "    .dataframe tbody tr th {\n",
       "        vertical-align: top;\n",
       "    }\n",
       "\n",
       "    .dataframe thead th {\n",
       "        text-align: right;\n",
       "    }\n",
       "</style>\n",
       "<table border=\"1\" class=\"dataframe\">\n",
       "  <thead>\n",
       "    <tr style=\"text-align: right;\">\n",
       "      <th></th>\n",
       "      <th>Project Name</th>\n",
       "      <th>Approved Budget</th>\n",
       "      <th>Start Date</th>\n",
       "      <th>End Date</th>\n",
       "      <th>Name Of Awarded Company</th>\n",
       "      <th>Amount Awarded</th>\n",
       "      <th>Date Of Award</th>\n",
       "      <th>Acceptance Date</th>\n",
       "      <th>Procuring Entity</th>\n",
       "    </tr>\n",
       "  </thead>\n",
       "  <tbody>\n",
       "    <tr>\n",
       "      <td>0</td>\n",
       "      <td>Human Grade Disinfectant Solution and Face Mas...</td>\n",
       "      <td>108864.00</td>\n",
       "      <td>2020-04-08</td>\n",
       "      <td>2020-04-18</td>\n",
       "      <td>Bauertek Corporation</td>\n",
       "      <td>108864.00</td>\n",
       "      <td>2020-04-02</td>\n",
       "      <td>2020-04-08</td>\n",
       "      <td>2</td>\n",
       "    </tr>\n",
       "    <tr>\n",
       "      <td>1</td>\n",
       "      <td>Procurement of relief goods</td>\n",
       "      <td>686000.00</td>\n",
       "      <td>2020-04-16</td>\n",
       "      <td>2020-04-23</td>\n",
       "      <td>Tina's Dried Fish and Egg Dealer</td>\n",
       "      <td>632800.00</td>\n",
       "      <td>2020-04-16</td>\n",
       "      <td>2020-04-16</td>\n",
       "      <td>12</td>\n",
       "    </tr>\n",
       "    <tr>\n",
       "      <td>2</td>\n",
       "      <td>Procurement of relief goods</td>\n",
       "      <td>686000.00</td>\n",
       "      <td>2020-04-16</td>\n",
       "      <td>2020-04-23</td>\n",
       "      <td>Tina's Dried Fish and Eggs</td>\n",
       "      <td>632800.00</td>\n",
       "      <td>2020-04-15</td>\n",
       "      <td>2020-04-15</td>\n",
       "      <td>12</td>\n",
       "    </tr>\n",
       "    <tr>\n",
       "      <td>3</td>\n",
       "      <td>Procurement of Relief Goods</td>\n",
       "      <td>1577000.00</td>\n",
       "      <td>2020-04-17</td>\n",
       "      <td>2020-04-24</td>\n",
       "      <td>Green Season Rice Mill &amp; Grain Center</td>\n",
       "      <td>1535500.00</td>\n",
       "      <td>2020-04-15</td>\n",
       "      <td>2020-04-15</td>\n",
       "      <td>12</td>\n",
       "    </tr>\n",
       "    <tr>\n",
       "      <td>4</td>\n",
       "      <td>Procurement of Various Medical Supplies for It...</td>\n",
       "      <td>64900000.00</td>\n",
       "      <td>2020-03-24</td>\n",
       "      <td>2020-05-22</td>\n",
       "      <td>Rebmann, Inc.</td>\n",
       "      <td>64790000.00</td>\n",
       "      <td>2020-03-16</td>\n",
       "      <td>2020-03-18</td>\n",
       "      <td>42</td>\n",
       "    </tr>\n",
       "  </tbody>\n",
       "</table>\n",
       "</div>"
      ],
      "text/plain": [
       "                                        Project Name  Approved Budget  \\\n",
       "0  Human Grade Disinfectant Solution and Face Mas...        108864.00   \n",
       "1                        Procurement of relief goods        686000.00   \n",
       "2                        Procurement of relief goods        686000.00   \n",
       "3                        Procurement of Relief Goods       1577000.00   \n",
       "4  Procurement of Various Medical Supplies for It...      64900000.00   \n",
       "\n",
       "   Start Date    End Date                Name Of Awarded Company  \\\n",
       "0  2020-04-08  2020-04-18                   Bauertek Corporation   \n",
       "1  2020-04-16  2020-04-23       Tina's Dried Fish and Egg Dealer   \n",
       "2  2020-04-16  2020-04-23             Tina's Dried Fish and Eggs   \n",
       "3  2020-04-17  2020-04-24  Green Season Rice Mill & Grain Center   \n",
       "4  2020-03-24  2020-05-22                          Rebmann, Inc.   \n",
       "\n",
       "   Amount Awarded Date Of Award Acceptance Date  Procuring Entity  \n",
       "0       108864.00    2020-04-02      2020-04-08                 2  \n",
       "1       632800.00    2020-04-16      2020-04-16                12  \n",
       "2       632800.00    2020-04-15      2020-04-15                12  \n",
       "3      1535500.00    2020-04-15      2020-04-15                12  \n",
       "4     64790000.00    2020-03-16      2020-03-18                42  "
      ]
     },
     "execution_count": 7,
     "metadata": {},
     "output_type": "execute_result"
    }
   ],
   "source": [
    "df.head()"
   ]
  },
  {
   "cell_type": "code",
   "execution_count": 8,
   "metadata": {},
   "outputs": [],
   "source": [
    "df['Procuring Entity'] = df['Procuring Entity'].replace(legend_dict)"
   ]
  },
  {
   "cell_type": "code",
   "execution_count": 9,
   "metadata": {},
   "outputs": [],
   "source": [
    "df_sorted = df.copy().sort_values(by=\"Amount Awarded\",ascending=False)\n",
    "df_sorted.reset_index(drop=True,inplace=True)"
   ]
  },
  {
   "cell_type": "code",
   "execution_count": 10,
   "metadata": {},
   "outputs": [
    {
     "data": {
      "text/html": [
       "<div>\n",
       "<style scoped>\n",
       "    .dataframe tbody tr th:only-of-type {\n",
       "        vertical-align: middle;\n",
       "    }\n",
       "\n",
       "    .dataframe tbody tr th {\n",
       "        vertical-align: top;\n",
       "    }\n",
       "\n",
       "    .dataframe thead th {\n",
       "        text-align: right;\n",
       "    }\n",
       "</style>\n",
       "<table border=\"1\" class=\"dataframe\">\n",
       "  <thead>\n",
       "    <tr style=\"text-align: right;\">\n",
       "      <th></th>\n",
       "      <th>Project Name</th>\n",
       "      <th>Approved Budget</th>\n",
       "      <th>Start Date</th>\n",
       "      <th>End Date</th>\n",
       "      <th>Name Of Awarded Company</th>\n",
       "      <th>Amount Awarded</th>\n",
       "      <th>Date Of Award</th>\n",
       "      <th>Acceptance Date</th>\n",
       "      <th>Procuring Entity</th>\n",
       "    </tr>\n",
       "  </thead>\n",
       "  <tbody>\n",
       "    <tr>\n",
       "      <td>0</td>\n",
       "      <td>Supply and Delivery of Personal Protective Equ...</td>\n",
       "      <td>3846000000.00</td>\n",
       "      <td>2020-05-08</td>\n",
       "      <td>2020-06-07</td>\n",
       "      <td>Pharmally Pharmaceutical Corporation</td>\n",
       "      <td>3820000000.00</td>\n",
       "      <td>2020-05-06</td>\n",
       "      <td>2020-05-06</td>\n",
       "      <td>PROCUREMENT SERVICE</td>\n",
       "    </tr>\n",
       "    <tr>\n",
       "      <td>1</td>\n",
       "      <td>Supply and Delivery of Testing Kits for COVID ...</td>\n",
       "      <td>2877300000.00</td>\n",
       "      <td>2020-06-09</td>\n",
       "      <td>2020-06-24</td>\n",
       "      <td>Pharmally Pharmaceutical Corporation</td>\n",
       "      <td>2877300000.00</td>\n",
       "      <td>2020-06-08</td>\n",
       "      <td>2020-06-08</td>\n",
       "      <td>Procurement Service - DBM</td>\n",
       "    </tr>\n",
       "    <tr>\n",
       "      <td>2</td>\n",
       "      <td>SUPPLY AND DELIVERY OF PERSONAL PROTECTIVE EQU...</td>\n",
       "      <td>1923000000.00</td>\n",
       "      <td>2020-05-08</td>\n",
       "      <td>2020-06-07</td>\n",
       "      <td>XUZHOU CONSTRUCTION MACHINERY GROUP IMP. AND E...</td>\n",
       "      <td>1898000000.00</td>\n",
       "      <td>2020-05-07</td>\n",
       "      <td>2020-05-07</td>\n",
       "      <td>PROCUREMENT SERVICE</td>\n",
       "    </tr>\n",
       "    <tr>\n",
       "      <td>3</td>\n",
       "      <td>Supply and Delivery of Personal Protective Equ...</td>\n",
       "      <td>790000000.00</td>\n",
       "      <td>2020-06-29</td>\n",
       "      <td>2020-08-13</td>\n",
       "      <td>Ferjan Healthlink Philippines Inc.</td>\n",
       "      <td>727500000.00</td>\n",
       "      <td>2020-06-19</td>\n",
       "      <td>2020-06-19</td>\n",
       "      <td>PROCUREMENT SERVICE</td>\n",
       "    </tr>\n",
       "    <tr>\n",
       "      <td>4</td>\n",
       "      <td>Supply and Delivery of Testing Kits for COVID ...</td>\n",
       "      <td>760000000.00</td>\n",
       "      <td>2020-04-24</td>\n",
       "      <td>2020-07-31</td>\n",
       "      <td>Pharmally Pharmaceutical Corporation</td>\n",
       "      <td>688000000.00</td>\n",
       "      <td>2020-04-23</td>\n",
       "      <td>2020-04-23</td>\n",
       "      <td>Procurement Service - DBM</td>\n",
       "    </tr>\n",
       "  </tbody>\n",
       "</table>\n",
       "</div>"
      ],
      "text/plain": [
       "                                        Project Name  Approved Budget  \\\n",
       "0  Supply and Delivery of Personal Protective Equ...    3846000000.00   \n",
       "1  Supply and Delivery of Testing Kits for COVID ...    2877300000.00   \n",
       "2  SUPPLY AND DELIVERY OF PERSONAL PROTECTIVE EQU...    1923000000.00   \n",
       "3  Supply and Delivery of Personal Protective Equ...     790000000.00   \n",
       "4  Supply and Delivery of Testing Kits for COVID ...     760000000.00   \n",
       "\n",
       "   Start Date    End Date                            Name Of Awarded Company  \\\n",
       "0  2020-05-08  2020-06-07               Pharmally Pharmaceutical Corporation   \n",
       "1  2020-06-09  2020-06-24               Pharmally Pharmaceutical Corporation   \n",
       "2  2020-05-08  2020-06-07  XUZHOU CONSTRUCTION MACHINERY GROUP IMP. AND E...   \n",
       "3  2020-06-29  2020-08-13                 Ferjan Healthlink Philippines Inc.   \n",
       "4  2020-04-24  2020-07-31               Pharmally Pharmaceutical Corporation   \n",
       "\n",
       "   Amount Awarded Date Of Award Acceptance Date           Procuring Entity  \n",
       "0   3820000000.00    2020-05-06      2020-05-06        PROCUREMENT SERVICE  \n",
       "1   2877300000.00    2020-06-08      2020-06-08  Procurement Service - DBM  \n",
       "2   1898000000.00    2020-05-07      2020-05-07        PROCUREMENT SERVICE  \n",
       "3    727500000.00    2020-06-19      2020-06-19        PROCUREMENT SERVICE  \n",
       "4    688000000.00    2020-04-23      2020-04-23  Procurement Service - DBM  "
      ]
     },
     "execution_count": 10,
     "metadata": {},
     "output_type": "execute_result"
    }
   ],
   "source": [
    "df_sorted.head()"
   ]
  },
  {
   "cell_type": "code",
   "execution_count": 11,
   "metadata": {},
   "outputs": [],
   "source": [
    "df_sorted[\"Money Ratio\"] = df_sorted[\"Amount Awarded\"].div(df_sorted[\"Approved Budget\"])"
   ]
  },
  {
   "cell_type": "code",
   "execution_count": 12,
   "metadata": {
    "scrolled": true
   },
   "outputs": [
    {
     "data": {
      "text/plain": [
       "35955162449.02"
      ]
     },
     "execution_count": 12,
     "metadata": {},
     "output_type": "execute_result"
    }
   ],
   "source": [
    "total_amount_awarded = df_sorted[\"Amount Awarded\"].sum(axis=0)\n",
    "total_amount_awarded = total_amount_awarded.round(2)\n",
    "total_amount_awarded"
   ]
  },
  {
   "cell_type": "code",
   "execution_count": 13,
   "metadata": {},
   "outputs": [],
   "source": [
    "df_cleaned = df_sorted.copy()\n",
    "df_cleaned[\"Category\"] = \"Not classified\""
   ]
  },
  {
   "cell_type": "markdown",
   "metadata": {},
   "source": [
    "#### Do not run the cell below this (manual input cell below)"
   ]
  },
  {
   "cell_type": "code",
   "execution_count": null,
   "metadata": {
    "scrolled": true
   },
   "outputs": [],
   "source": [
    "#Manual renaming per row, manually noted \"keywords\" for automatic sorting later on\n",
    "\n",
    "money = 0\n",
    "indices = []\n",
    "for index,row in df_cleaned.iterrows():\n",
    "    \n",
    "    if money/total_amount_awarded >= 0.75:\n",
    "        break\n",
    "    else:\n",
    "        indices.append(index)\n",
    "    \n",
    "        if index%20 == 0:\n",
    "            print(\"\\n\",index,\"\\n\")\n",
    "\n",
    "        df_cleaned.loc[index,\"Category\"] = input(df_cleaned.iloc[index,0]+\" :  \")\n",
    "        money += row[5]"
   ]
  },
  {
   "cell_type": "markdown",
   "metadata": {},
   "source": [
    "#### Do not run the cell above this (manual input cell below)"
   ]
  },
  {
   "cell_type": "code",
   "execution_count": 56,
   "metadata": {},
   "outputs": [
    {
     "name": "stdout",
     "output_type": "stream",
     "text": [
      "Enter a number for the cutoff point: 0.75\n",
      "The top 422 rows (out of 11697) comprise at least 75.00% of the Total Amount Awarded\n"
     ]
    }
   ],
   "source": [
    "money = 0\n",
    "indices = []\n",
    "num_of_rows = len(df_cleaned)\n",
    "while True:\n",
    "    try:\n",
    "        cutoff_float = float(input(\"Enter a number for the cutoff point: \"))\n",
    "\n",
    "        while cutoff_float > 1 or cutoff_float < 0:\n",
    "            try:\n",
    "                print(\"Invalid Input.\")\n",
    "                cutoff_float = float(input(\"Enter a number for the cutoff point: \"))\n",
    "\n",
    "            except:\n",
    "                pass\n",
    "\n",
    "        for index,row in df_cleaned.iterrows():\n",
    "            if money/total_amount_awarded >= cutoff_float:\n",
    "                break\n",
    "            else:\n",
    "                indices.append(index)\n",
    "                money += row[5]\n",
    "\n",
    "        print(\"The top\",indices[-1]+1,\"rows (out of {num}) comprise at least {cutoff:.2f}% of the Total Amount Awarded\".format(num = num_of_rows, cutoff = cutoff_float*100))\n",
    "        break\n",
    "    except:\n",
    "        print(\"Invalid Input.\")\n",
    "\n"
   ]
  },
  {
   "cell_type": "code",
   "execution_count": 59,
   "metadata": {},
   "outputs": [
    {
     "name": "stdout",
     "output_type": "stream",
     "text": [
      "Values greater than or equal to this amount is considered \"big\": 10000000\n",
      "\n",
      "The top 440 rows (out of 11697) are considered \"big\" bids (3.76% of all rows).\n",
      "Together, all these \"big\" bids equal to 75.53% of the Total Amount Awarded\n",
      "\n",
      "The remaining 11257 rows are all considered \"small\" bids (96.24% of all rows).\n"
     ]
    }
   ],
   "source": [
    "indices = []\n",
    "num_of_rows = len(df_cleaned)\n",
    "money = 0\n",
    "while True:\n",
    "    try:\n",
    "        cutoff_flat = float(input('Values greater than or equal to this amount is considered \"big\": '))\n",
    "        \n",
    "        for index,row in df_cleaned.iterrows():\n",
    "            if row[5] < cutoff_flat:\n",
    "                break\n",
    "            else:\n",
    "                indices.append(index)\n",
    "                money += row[5]\n",
    "        \n",
    "        rows = indices[-1]+1\n",
    "        print(\"\\nThe top\",rows,'rows (out of {num}) are considered \"big\" bids ({percentage:.2f}% of all rows).'.format(num=num_of_rows,percentage = rows/num_of_rows*100))\n",
    "        print('Together, all these \"big\" bids equal to {percentage:.2f}% of the Total Amount Awarded'.format(percentage=money/total_amount_awarded*100))\n",
    "        print('\\nThe remaining {diff} rows are all considered \"small\" bids ({percentage:.2f}% of all rows).'.format(diff = num_of_rows - rows, percentage = (1-(rows/num_of_rows))*100))\n",
    "        break\n",
    "    except:\n",
    "        print(\"Invalid Input.\")"
   ]
  },
  {
   "cell_type": "code",
   "execution_count": 25,
   "metadata": {
    "scrolled": false
   },
   "outputs": [
    {
     "data": {
      "text/plain": [
       "11696"
      ]
     },
     "execution_count": 25,
     "metadata": {},
     "output_type": "execute_result"
    }
   ],
   "source": [
    "#index 0-421 comprise >= 0.75 of the total Amount Awarded\n",
    "indices[-1]"
   ]
  },
  {
   "cell_type": "markdown",
   "metadata": {},
   "source": [
    "# Note to self:  \n",
    "\n",
    "### Keywords:  \n",
    "Medical = [Personal Protective Equipment, PPE, Department of Health, DOH, Testing Kit, Test Kit, N95, Surgical Mask, Pipette, Hygiene Kit, Gown, Goggles, Alcohol, Gloves, Coverall, ventilator, Medical, Hospital, Health, RT-PCR, testing, medicin, detection, vitamin, mask, laboratory, lab, PCR, extraction, kit, CT Scan]\n",
    "  \n",
    "Food = [Rice, Corned Beef, Beef Loaf, Relief Good, Seed, NSIC, Food, Water, grocery, Sardines, milk]  \n",
    "\n",
    "### Not sure if correct:\n",
    "\n",
    "\n",
    "CT Scan Machine (categorized as Medical, index is somewhere in (120-140))  \n",
    "patient vehicle (categorized as Others, index is somewhere in (220-240))  \n",
    "\n",
    "Construction of Hospital-Based Health Isolation Facilities for COVID-19 Patients and Health Care Professionals, EVRMC Cabalawan, Tacloban City :  Medical (280-300)\n",
    "\n",
    "FURNISHING LABOR AND MATERIALS FOR THE CONSTRUCTION OF BULACAN MOLECULAR DIAGNOSTIC LABORATORY AT BULACAN MEDICAL CENTER, CAPITOL COMPOUND, CITY OF MALOLOS, BULACAN :  Others (360-380)"
   ]
  },
  {
   "cell_type": "code",
   "execution_count": null,
   "metadata": {},
   "outputs": [],
   "source": [
    "#Weird Observation regarding Money Ratio... disregard na lang if ever???\n",
    "df_cleaned[df_cleaned[\"Money Ratio\"]>1].head()"
   ]
  },
  {
   "cell_type": "markdown",
   "metadata": {},
   "source": [
    "# 4. Categorizing by money procured by the procuring entity"
   ]
  },
  {
   "cell_type": "code",
   "execution_count": 26,
   "metadata": {
    "scrolled": true
   },
   "outputs": [
    {
     "data": {
      "text/html": [
       "<div>\n",
       "<style scoped>\n",
       "    .dataframe tbody tr th:only-of-type {\n",
       "        vertical-align: middle;\n",
       "    }\n",
       "\n",
       "    .dataframe tbody tr th {\n",
       "        vertical-align: top;\n",
       "    }\n",
       "\n",
       "    .dataframe thead th {\n",
       "        text-align: right;\n",
       "    }\n",
       "</style>\n",
       "<table border=\"1\" class=\"dataframe\">\n",
       "  <thead>\n",
       "    <tr style=\"text-align: right;\">\n",
       "      <th></th>\n",
       "      <th>Procuring Entity</th>\n",
       "      <th>Amount Awarded</th>\n",
       "      <th>Ratio from Total Money</th>\n",
       "    </tr>\n",
       "  </thead>\n",
       "  <tbody>\n",
       "    <tr>\n",
       "      <td>0</td>\n",
       "      <td>PROCUREMENT SERVICE</td>\n",
       "      <td>10089578194.30</td>\n",
       "      <td>0.28</td>\n",
       "    </tr>\n",
       "    <tr>\n",
       "      <td>1</td>\n",
       "      <td>Procurement Service - DBM</td>\n",
       "      <td>4941726625.00</td>\n",
       "      <td>0.14</td>\n",
       "    </tr>\n",
       "    <tr>\n",
       "      <td>2</td>\n",
       "      <td>City Government of Taguig</td>\n",
       "      <td>2013432750.54</td>\n",
       "      <td>0.06</td>\n",
       "    </tr>\n",
       "    <tr>\n",
       "      <td>3</td>\n",
       "      <td>Department of Health</td>\n",
       "      <td>990810937.50</td>\n",
       "      <td>0.03</td>\n",
       "    </tr>\n",
       "    <tr>\n",
       "      <td>4</td>\n",
       "      <td>Office of the Chie Minister-Bangsamoro Autonom...</td>\n",
       "      <td>895257427.30</td>\n",
       "      <td>0.02</td>\n",
       "    </tr>\n",
       "  </tbody>\n",
       "</table>\n",
       "</div>"
      ],
      "text/plain": [
       "                                    Procuring Entity  Amount Awarded  \\\n",
       "0                                PROCUREMENT SERVICE  10089578194.30   \n",
       "1                          Procurement Service - DBM   4941726625.00   \n",
       "2                          City Government of Taguig   2013432750.54   \n",
       "3                               Department of Health    990810937.50   \n",
       "4  Office of the Chie Minister-Bangsamoro Autonom...    895257427.30   \n",
       "\n",
       "   Ratio from Total Money  \n",
       "0                    0.28  \n",
       "1                    0.14  \n",
       "2                    0.06  \n",
       "3                    0.03  \n",
       "4                    0.02  "
      ]
     },
     "execution_count": 26,
     "metadata": {},
     "output_type": "execute_result"
    }
   ],
   "source": [
    "df_Money_by_ProcuringEntity = df_cleaned.copy()\n",
    "\n",
    "removelist = ['Project Name', 'Approved Budget', 'Start Date', 'End Date',\n",
    "       'Name Of Awarded Company', 'Date Of Award',\n",
    "       'Acceptance Date', 'Money Ratio', 'Category']\n",
    "\n",
    "df_Money_by_ProcuringEntity.drop(columns = removelist,inplace=True)\n",
    "\n",
    "df_Money_by_ProcuringEntity = df_Money_by_ProcuringEntity[[\"Procuring Entity\",\"Amount Awarded\"]]\n",
    "\n",
    "\n",
    "\n",
    "df_sorted_Money_by_ProcuringEntity = df_Money_by_ProcuringEntity.groupby([\"Procuring Entity\"]).sum().copy()\n",
    "\n",
    "df_sorted_Money_by_ProcuringEntity.sort_values(by=\"Amount Awarded\",ascending=False,inplace=True)\n",
    "\n",
    "df_sorted_Money_by_ProcuringEntity.reset_index(inplace=True)\n",
    "\n",
    "total = total_amount_awarded.copy()\n",
    "\n",
    "df_sorted_Money_by_ProcuringEntity[\"Ratio from Total Money\"] = df_sorted_Money_by_ProcuringEntity[\"Amount Awarded\"].divide(total)\n",
    "\n",
    "df_sorted_Money_by_ProcuringEntity.head()\n"
   ]
  },
  {
   "cell_type": "markdown",
   "metadata": {},
   "source": [
    "# Disregard below... safety precautions when I restarted everything lang... \n",
    "\n",
    "## Delete all the ones below if there is automatic categorization na :))  ~Aids"
   ]
  },
  {
   "cell_type": "code",
   "execution_count": 18,
   "metadata": {},
   "outputs": [
    {
     "data": {
      "text/plain": [
       "0               Medical\n",
       "1               Medical\n",
       "2               Medical\n",
       "3               Medical\n",
       "4               Medical\n",
       "              ...      \n",
       "11692    Not classified\n",
       "11693    Not classified\n",
       "11694    Not classified\n",
       "11695    Not classified\n",
       "11696    Not classified\n",
       "Name: Category, Length: 11697, dtype: object"
      ]
     },
     "execution_count": 18,
     "metadata": {},
     "output_type": "execute_result"
    }
   ],
   "source": [
    "df_category = pd.read_csv(\"Manually_Categorized.csv\")\n",
    "df_category = df_category[\"Category\"]\n",
    "df_category"
   ]
  },
  {
   "cell_type": "code",
   "execution_count": 19,
   "metadata": {},
   "outputs": [],
   "source": [
    "df_cleaned[\"Category\"] = df_category"
   ]
  },
  {
   "cell_type": "code",
   "execution_count": null,
   "metadata": {},
   "outputs": [],
   "source": []
  }
 ],
 "metadata": {
  "kernelspec": {
   "display_name": "Python 3",
   "language": "python",
   "name": "python3"
  },
  "language_info": {
   "codemirror_mode": {
    "name": "ipython",
    "version": 3
   },
   "file_extension": ".py",
   "mimetype": "text/x-python",
   "name": "python",
   "nbconvert_exporter": "python",
   "pygments_lexer": "ipython3",
   "version": "3.7.4"
  }
 },
 "nbformat": 4,
 "nbformat_minor": 2
}
