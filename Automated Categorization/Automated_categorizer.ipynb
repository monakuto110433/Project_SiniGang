{
 "cells": [
  {
   "cell_type": "code",
   "execution_count": 1,
   "metadata": {},
   "outputs": [],
   "source": [
    "import pandas as pd\n",
    "import re\n"
   ]
  },
  {
   "cell_type": "code",
   "execution_count": 2,
   "metadata": {},
   "outputs": [],
   "source": [
    "raw_df = pd.read_csv(\"Manually_Categorized.csv\")"
   ]
  },
  {
   "cell_type": "code",
   "execution_count": 3,
   "metadata": {},
   "outputs": [],
   "source": [
    "df = raw_df[[\"Project Name\", \"Start Date\", \"Amount Awarded\", \"Category\"]].rename(columns = dict(Category = \"cat0\"))"
   ]
  },
  {
   "cell_type": "code",
   "execution_count": 4,
   "metadata": {},
   "outputs": [],
   "source": [
    "keywords = dict(Medical = [], Food = [] ,Others = [])"
   ]
  },
  {
   "cell_type": "code",
   "execution_count": 5,
   "metadata": {},
   "outputs": [],
   "source": [
    "def convert_to_non_special_cw_list(_str):\n",
    "    return re.sub(r\"[^A-Za-z0-9\\s\\-]\", \"\", _str.lower()).split(\" \")"
   ]
  },
  {
   "cell_type": "code",
   "execution_count": 6,
   "metadata": {},
   "outputs": [],
   "source": [
    "def update_keywords(cycle):\n",
    "    #extract keywords\n",
    "    for cat in keywords.keys():\n",
    "        cat_string = \" \".join(df[df[f\"cat{cycle}\"] == cat][\"Project Name\"].str.lower())\n",
    "        keywords[cat] = list(set(convert_to_non_special_cw_list(cat_string)))\n",
    "        \n",
    "    #remove intersection keywords\n",
    "    temp_keywords = dict(keywords)\n",
    "    for cat in keywords.keys():\n",
    "        other_cats = list(set(keywords.keys()) - set([cat]))\n",
    "        final_cat_keywords = set(temp_keywords[cat]) - set(temp_keywords[other_cats[0]]) - set(temp_keywords[other_cats[1]])\n",
    "        keywords[cat] = list(final_cat_keywords)"
   ]
  },
  {
   "cell_type": "code",
   "execution_count": 7,
   "metadata": {},
   "outputs": [],
   "source": [
    "def categorizer(name):\n",
    "    name_list = convert_to_non_special_cw_list(name.lower())\n",
    "    \n",
    "    for cat in keywords.keys():\n",
    "        if set(name_list).intersection(set(keywords[cat])):\n",
    "            return cat\n",
    "    else:\n",
    "        if (\"medical equipment\" in name.lower()) or (\"medical suppl\" in name.lower()) \\\n",
    "        or (\"hospital equipment\" in name.lower()) or (\"hospital suppl\" in name.lower()):\n",
    "            return \"Medical\"\n",
    "        elif (\"equipment\" in name.lower()):\n",
    "            return \"Others\"\n",
    "        return \"Not classified\""
   ]
  },
  {
   "cell_type": "code",
   "execution_count": 8,
   "metadata": {},
   "outputs": [],
   "source": [
    "def percentage_calcu(category): \n",
    "    if category == \"Not classified\": \n",
    "        cat_total_amount_awarded = df[df.iloc[:,-2] == \"Not classified\"][\"Amount Awarded\"].sum()\n",
    "    else: \n",
    "        cat_total_amount_awarded = df[df.iloc[:,-1] == category][\"Amount Awarded\"].sum()\n",
    "    percent_budget_not_categorized = cat_total_amount_awarded/df[\"Amount Awarded\"].sum() * 100\n",
    "    return percent_budget_not_categorized\n",
    "        "
   ]
  },
  {
   "cell_type": "code",
   "execution_count": 9,
   "metadata": {
    "scrolled": false
   },
   "outputs": [
    {
     "name": "stdout",
     "output_type": "stream",
     "text": [
      "2001\n",
      "1300\n",
      "1265\n",
      "1262\n",
      "1262\n"
     ]
    }
   ],
   "source": [
    "cycle = 0\n",
    "previous_unknown_count = 0\n",
    "while True:\n",
    "    update_keywords(cycle)\n",
    "    cycle += 1\n",
    "    df[f\"cat{cycle}\"] = df[f\"cat{cycle-1}\"]\n",
    "    df.loc[df[f\"cat{cycle}\"]==\"Not classified\", f\"cat{cycle}\"] = df.loc[df[f\"cat{cycle}\"]==\"Not classified\", \"Project Name\"].map(categorizer)\n",
    "    current_unknown_count = (df[f\"cat{cycle}\"] == \"Not classified\").sum()\n",
    "    print(current_unknown_count)\n",
    "    if current_unknown_count == previous_unknown_count:\n",
    "        break\n",
    "    else:\n",
    "        previous_unknown_count = current_unknown_count"
   ]
  },
  {
   "cell_type": "code",
   "execution_count": 10,
   "metadata": {},
   "outputs": [],
   "source": [
    "df[\"Final Categorization\"] = df.iloc[:,-1].replace(\"Not classified\", \"Others\")"
   ]
  },
  {
   "cell_type": "code",
   "execution_count": 11,
   "metadata": {},
   "outputs": [
    {
     "data": {
      "text/plain": [
       "[1.6181937276321727, 64.99204259795222, 28.49387135145384, 6.514086050593932]"
      ]
     },
     "execution_count": 11,
     "metadata": {},
     "output_type": "execute_result"
    }
   ],
   "source": [
    "list(map(percentage_calcu,[\"Not classified\",\"Medical\", \"Food\", \"Others\"]))"
   ]
  },
  {
   "cell_type": "code",
   "execution_count": 12,
   "metadata": {},
   "outputs": [],
   "source": [
    "df.to_csv(\"auto-classified.csv\")"
   ]
  },
  {
   "cell_type": "code",
   "execution_count": null,
   "metadata": {},
   "outputs": [],
   "source": []
  }
 ],
 "metadata": {
  "kernelspec": {
   "display_name": "Python 3",
   "language": "python",
   "name": "python3"
  },
  "language_info": {
   "codemirror_mode": {
    "name": "ipython",
    "version": 3
   },
   "file_extension": ".py",
   "mimetype": "text/x-python",
   "name": "python",
   "nbconvert_exporter": "python",
   "pygments_lexer": "ipython3",
   "version": "3.7.4"
  }
 },
 "nbformat": 4,
 "nbformat_minor": 2
}
