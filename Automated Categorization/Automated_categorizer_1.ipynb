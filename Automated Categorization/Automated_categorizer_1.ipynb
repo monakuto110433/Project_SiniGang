{
 "cells": [
  {
   "cell_type": "code",
   "execution_count": 1,
   "metadata": {},
   "outputs": [],
   "source": [
    "import pandas as pd\n",
    "import re"
   ]
  },
  {
   "cell_type": "code",
   "execution_count": 2,
   "metadata": {},
   "outputs": [],
   "source": [
    "raw_df = pd.read_csv(\"Manually_Categorized.csv\")\n",
    "raw2_df = pd.read_csv(\"workbook.csv\")"
   ]
  },
  {
   "cell_type": "code",
   "execution_count": 3,
   "metadata": {},
   "outputs": [],
   "source": [
    "df = raw_df[[\"Project Name\", \"Start Date\", \"Amount Awarded\", \"Category\"]].rename(columns = dict(Category = \"cat0\"))"
   ]
  },
  {
   "cell_type": "code",
   "execution_count": 4,
   "metadata": {},
   "outputs": [],
   "source": [
    "df2 = raw2_df[[\"Project Name\", \"Start Date\", \"Amount Awarded\"]]"
   ]
  },
  {
   "cell_type": "code",
   "execution_count": 5,
   "metadata": {},
   "outputs": [],
   "source": [
    "#df = pd.concat([df1,df2], sort = False).drop_duplicates().drop([\"Project Name\"], axis = 1)"
   ]
  },
  {
   "cell_type": "code",
   "execution_count": 6,
   "metadata": {},
   "outputs": [],
   "source": [
    "#df = df1.merge(df2, on = [\"Project Name\",\"Start Date\", \"Amount Awarded\"])"
   ]
  },
  {
   "cell_type": "code",
   "execution_count": 7,
   "metadata": {},
   "outputs": [],
   "source": [
    "keywords = dict(Medical = [], Food = [] ,Others = [])"
   ]
  },
  {
   "cell_type": "code",
   "execution_count": 8,
   "metadata": {},
   "outputs": [],
   "source": [
    "def convert_to_non_special_cw_list(_str):\n",
    "    return re.sub(r\"[^A-Za-z0-9\\s\\-]\", \"\", _str.lower()).split(\" \")"
   ]
  },
  {
   "cell_type": "code",
   "execution_count": 9,
   "metadata": {},
   "outputs": [],
   "source": [
    "def update_keywords(cycle):\n",
    "    #extract keywords\n",
    "    for cat in keywords.keys():\n",
    "        cat_string = \" \".join(df[df[f\"cat{cycle}\"] == cat][\"Project Name\"].str.lower())\n",
    "        keywords[cat] = list(set(convert_to_non_special_cw_list(cat_string)))\n",
    "        \n",
    "    #remove intersection keywords\n",
    "    temp_keywords = dict(keywords)\n",
    "    for cat in keywords.keys():\n",
    "        other_cats = list(set(keywords.keys()) - set([cat]))\n",
    "        final_cat_keywords = set(temp_keywords[cat]) - set(temp_keywords[other_cats[0]]) - set(temp_keywords[other_cats[1]])\n",
    "        keywords[cat] = list(final_cat_keywords)"
   ]
  },
  {
   "cell_type": "code",
   "execution_count": 10,
   "metadata": {},
   "outputs": [],
   "source": [
    "def categorizer(name):\n",
    "    name_list = convert_to_non_special_cw_list(name.lower())\n",
    "    \n",
    "    for cat in keywords.keys():\n",
    "        if set(name_list).intersection(set(keywords[cat])):\n",
    "            return cat\n",
    "    else:\n",
    "        if (\"medical equipment\" in name.lower()) or (\"medical suppl\" in name.lower()) \\\n",
    "        or (\"hospital equipment\" in name.lower()) or (\"hospital suppl\" in name.lower()):\n",
    "            return \"Medical\"\n",
    "        elif (\"equipment\" in name.lower()):\n",
    "            return \"Others\"\n",
    "        return \"Not classified\""
   ]
  },
  {
   "cell_type": "code",
   "execution_count": 11,
   "metadata": {},
   "outputs": [],
   "source": [
    "def percentage_calcu(category): \n",
    "    if category == \"Not classified\": \n",
    "        cat_total_amount_awarded = df[df.iloc[:,-2] == \"Not classified\"][\"Amount Awarded\"].sum()\n",
    "    else: \n",
    "        cat_total_amount_awarded = df[df.iloc[:,-1] == category][\"Amount Awarded\"].sum()\n",
    "    percent_budget_not_categorized = cat_total_amount_awarded/df[\"Amount Awarded\"].sum() * 100\n",
    "    return percent_budget_not_categorized\n",
    "        "
   ]
  },
  {
   "cell_type": "code",
   "execution_count": 12,
   "metadata": {},
   "outputs": [
    {
     "name": "stdout",
     "output_type": "stream",
     "text": [
      "2001\n",
      "1300\n",
      "1265\n",
      "1262\n",
      "1262\n"
     ]
    }
   ],
   "source": [
    "cycle = 0\n",
    "previous_unknown_count = 0\n",
    "while True:\n",
    "    update_keywords(cycle)\n",
    "    cycle += 1\n",
    "    df[f\"cat{cycle}\"] = df[f\"cat{cycle-1}\"]\n",
    "    df.loc[df[f\"cat{cycle}\"]==\"Not classified\", f\"cat{cycle}\"] = df.loc[df[f\"cat{cycle}\"]==\"Not classified\", \"Project Name\"].map(categorizer)\n",
    "    current_unknown_count = (df[f\"cat{cycle}\"] == \"Not classified\").sum()\n",
    "    print(current_unknown_count)\n",
    "    if current_unknown_count == previous_unknown_count:\n",
    "        break\n",
    "    else:\n",
    "        previous_unknown_count = current_unknown_count"
   ]
  },
  {
   "cell_type": "code",
   "execution_count": 13,
   "metadata": {},
   "outputs": [
    {
     "data": {
      "text/html": [
       "<div>\n",
       "<style scoped>\n",
       "    .dataframe tbody tr th:only-of-type {\n",
       "        vertical-align: middle;\n",
       "    }\n",
       "\n",
       "    .dataframe tbody tr th {\n",
       "        vertical-align: top;\n",
       "    }\n",
       "\n",
       "    .dataframe thead th {\n",
       "        text-align: right;\n",
       "    }\n",
       "</style>\n",
       "<table border=\"1\" class=\"dataframe\">\n",
       "  <thead>\n",
       "    <tr style=\"text-align: right;\">\n",
       "      <th></th>\n",
       "      <th>Project Name</th>\n",
       "      <th>Start Date</th>\n",
       "      <th>Amount Awarded</th>\n",
       "    </tr>\n",
       "  </thead>\n",
       "  <tbody>\n",
       "    <tr>\n",
       "      <td>0</td>\n",
       "      <td>Human Grade Disinfectant Solution and Face Mas...</td>\n",
       "      <td>2020-04-08</td>\n",
       "      <td>108864.0</td>\n",
       "    </tr>\n",
       "    <tr>\n",
       "      <td>1</td>\n",
       "      <td>Procurement of relief goods</td>\n",
       "      <td>2020-04-16</td>\n",
       "      <td>632800.0</td>\n",
       "    </tr>\n",
       "    <tr>\n",
       "      <td>2</td>\n",
       "      <td>Procurement of relief goods</td>\n",
       "      <td>2020-04-16</td>\n",
       "      <td>632800.0</td>\n",
       "    </tr>\n",
       "    <tr>\n",
       "      <td>3</td>\n",
       "      <td>Procurement of Relief Goods</td>\n",
       "      <td>2020-04-17</td>\n",
       "      <td>1535500.0</td>\n",
       "    </tr>\n",
       "    <tr>\n",
       "      <td>4</td>\n",
       "      <td>Procurement of Various Medical Supplies for It...</td>\n",
       "      <td>2020-03-24</td>\n",
       "      <td>64790000.0</td>\n",
       "    </tr>\n",
       "  </tbody>\n",
       "</table>\n",
       "</div>"
      ],
      "text/plain": [
       "                                        Project Name  Start Date  \\\n",
       "0  Human Grade Disinfectant Solution and Face Mas...  2020-04-08   \n",
       "1                        Procurement of relief goods  2020-04-16   \n",
       "2                        Procurement of relief goods  2020-04-16   \n",
       "3                        Procurement of Relief Goods  2020-04-17   \n",
       "4  Procurement of Various Medical Supplies for It...  2020-03-24   \n",
       "\n",
       "   Amount Awarded  \n",
       "0        108864.0  \n",
       "1        632800.0  \n",
       "2        632800.0  \n",
       "3       1535500.0  \n",
       "4      64790000.0  "
      ]
     },
     "execution_count": 13,
     "metadata": {},
     "output_type": "execute_result"
    }
   ],
   "source": [
    "df2.head()"
   ]
  },
  {
   "cell_type": "code",
   "execution_count": 14,
   "metadata": {},
   "outputs": [
    {
     "name": "stderr",
     "output_type": "stream",
     "text": [
      "C:\\Users\\Joyce Heidi Ong\\Anaconda3\\lib\\site-packages\\ipykernel_launcher.py:1: SettingWithCopyWarning: \n",
      "A value is trying to be set on a copy of a slice from a DataFrame.\n",
      "Try using .loc[row_indexer,col_indexer] = value instead\n",
      "\n",
      "See the caveats in the documentation: http://pandas.pydata.org/pandas-docs/stable/user_guide/indexing.html#returning-a-view-versus-a-copy\n",
      "  \"\"\"Entry point for launching an IPython kernel.\n"
     ]
    }
   ],
   "source": [
    "df2[\"Category\"] = \"Not classified\""
   ]
  },
  {
   "cell_type": "code",
   "execution_count": 15,
   "metadata": {},
   "outputs": [
    {
     "name": "stderr",
     "output_type": "stream",
     "text": [
      "C:\\Users\\Joyce Heidi Ong\\Anaconda3\\lib\\site-packages\\pandas\\core\\generic.py:5208: SettingWithCopyWarning: \n",
      "A value is trying to be set on a copy of a slice from a DataFrame.\n",
      "Try using .loc[row_indexer,col_indexer] = value instead\n",
      "\n",
      "See the caveats in the documentation: http://pandas.pydata.org/pandas-docs/stable/user_guide/indexing.html#returning-a-view-versus-a-copy\n",
      "  self[name] = value\n"
     ]
    }
   ],
   "source": [
    "df2.Category = df2.loc[:,\"Project Name\"].map(categorizer)"
   ]
  },
  {
   "cell_type": "code",
   "execution_count": 16,
   "metadata": {},
   "outputs": [
    {
     "data": {
      "text/plain": [
       "dict_keys(['Medical', 'Food', 'Others'])"
      ]
     },
     "execution_count": 16,
     "metadata": {},
     "output_type": "execute_result"
    }
   ],
   "source": [
    "keywords.keys()"
   ]
  },
  {
   "cell_type": "code",
   "execution_count": 17,
   "metadata": {},
   "outputs": [
    {
     "data": {
      "text/plain": [
       "array(['Medical', 'Not classified', 'Others', 'Food'], dtype=object)"
      ]
     },
     "execution_count": 17,
     "metadata": {},
     "output_type": "execute_result"
    }
   ],
   "source": [
    "df2.Category.unique()"
   ]
  },
  {
   "cell_type": "code",
   "execution_count": 18,
   "metadata": {},
   "outputs": [],
   "source": [
    "df[\"Final Categorization\"] = df.iloc[:,-1].replace(\"Not classified\", \"Others\")"
   ]
  },
  {
   "cell_type": "code",
   "execution_count": 19,
   "metadata": {},
   "outputs": [
    {
     "data": {
      "text/plain": [
       "[1.6181937276321727, 64.99204259795222, 28.49387135145384, 6.514086050593932]"
      ]
     },
     "execution_count": 19,
     "metadata": {},
     "output_type": "execute_result"
    }
   ],
   "source": [
    "#list(map(percentage_calcu,[\"Not classified\",\"Medical\", \"Food\", \"Others\"]))"
   ]
  },
  {
   "cell_type": "code",
   "execution_count": 20,
   "metadata": {},
   "outputs": [],
   "source": [
    "df2.to_csv(\"auto-classified.csv\")"
   ]
  },
  {
   "cell_type": "code",
   "execution_count": null,
   "metadata": {},
   "outputs": [],
   "source": []
  }
 ],
 "metadata": {
  "kernelspec": {
   "display_name": "Python 3",
   "language": "python",
   "name": "python3"
  },
  "language_info": {
   "codemirror_mode": {
    "name": "ipython",
    "version": 3
   },
   "file_extension": ".py",
   "mimetype": "text/x-python",
   "name": "python",
   "nbconvert_exporter": "python",
   "pygments_lexer": "ipython3",
   "version": "3.7.4"
  }
 },
 "nbformat": 4,
 "nbformat_minor": 2
}
